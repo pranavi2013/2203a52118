{
  "nbformat": 4,
  "nbformat_minor": 0,
  "metadata": {
    "colab": {
      "provenance": [],
      "authorship_tag": "ABX9TyOfAkLPNwEHiHh6RjPgPdyL",
      "include_colab_link": true
    },
    "kernelspec": {
      "name": "python3",
      "display_name": "Python 3"
    },
    "language_info": {
      "name": "python"
    }
  },
  "cells": [
    {
      "cell_type": "markdown",
      "metadata": {
        "id": "view-in-github",
        "colab_type": "text"
      },
      "source": [
        "<a href=\"https://colab.research.google.com/github/pranavi2013/2203a52118/blob/main/Untitled5.ipynb\" target=\"_parent\"><img src=\"https://colab.research.google.com/assets/colab-badge.svg\" alt=\"Open In Colab\"/></a>"
      ]
    },
    {
      "cell_type": "code",
      "execution_count": null,
      "metadata": {
        "colab": {
          "base_uri": "https://localhost:8080/"
        },
        "id": "y5i946StK0MV",
        "outputId": "a9c52518-aded-492c-c331-c560d07b52f9"
      },
      "outputs": [
        {
          "output_type": "stream",
          "name": "stdout",
          "text": [
            "Variance for Noticed Temperature: 0.10322222222222238\n",
            "Variance for Actual Temperature: 0.4555555555555555\n",
            "F-Test Result - F-statistic: 427.9357725193891, p-value: 5.3742083135221453e-14\n",
            "At 0.01 significance level: There is a significant difference between the variances.\n",
            "At 0.05 significance level: There is a significant difference between the variances.\n"
          ]
        }
      ],
      "source": [
        "import numpy as np\n",
        "from scipy.stats import f_oneway\n",
        "noticed_temp = np.array([27.4, 26.9, 27.3, 27.5, 27.5, 27.9, 27.6, 27, 27.2, 27.8])\n",
        "actual_temp = np.array([33, 33, 33, 32, 32, 32, 32, 32, 33, 31])\n",
        "variance_noticed_temp = np.var(noticed_temp, ddof=1)\n",
        "variance_actual_temp = np.var(actual_temp, ddof=1)\n",
        "f_statistic, p_value = f_oneway(noticed_temp, actual_temp)\n",
        "print(f\"Variance for Noticed Temperature: {variance_noticed_temp}\")\n",
        "print(f\"Variance for Actual Temperature: {variance_actual_temp}\")\n",
        "print(f\"F-Test Result - F-statistic: {f_statistic}, p-value: {p_value}\")\n",
        "alpha_01 = 0.01\n",
        "if p_value < alpha_01:\n",
        "    print(f\"At {alpha_01} significance level: There is a significant difference between the variances.\")\n",
        "else:\n",
        "    print(f\"At {alpha_01} significance level: There is no significant difference between the variances.\")\n",
        "alpha_05 = 0.05\n",
        "if p_value < alpha_05:\n",
        "    print(f\"At {alpha_05} significance level: There is a significant difference between the variances.\")\n",
        "else:\n",
        "    print(f\"At {alpha_05} significance level: There is no significant difference between the variances.\")"
      ]
    }
  ]
}