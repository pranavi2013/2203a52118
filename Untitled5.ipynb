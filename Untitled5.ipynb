{
  "nbformat": 4,
  "nbformat_minor": 0,
  "metadata": {
    "colab": {
      "provenance": [],
      "authorship_tag": "ABX9TyPuLbJdmm7TJEz06YNcK6Dr",
      "include_colab_link": true
    },
    "kernelspec": {
      "name": "python3",
      "display_name": "Python 3"
    },
    "language_info": {
      "name": "python"
    }
  },
  "cells": [
    {
      "cell_type": "markdown",
      "metadata": {
        "id": "view-in-github",
        "colab_type": "text"
      },
      "source": [
        "<a href=\"https://colab.research.google.com/github/pranavi2013/2203a52118/blob/main/Untitled5.ipynb\" target=\"_parent\"><img src=\"https://colab.research.google.com/assets/colab-badge.svg\" alt=\"Open In Colab\"/></a>"
      ]
    },
    {
      "cell_type": "code",
      "execution_count": 8,
      "metadata": {
        "colab": {
          "base_uri": "https://localhost:8080/"
        },
        "id": "y5i946StK0MV",
        "outputId": "8c9828bc-218b-43f0-8ff3-85347221b4da"
      },
      "outputs": [
        {
          "output_type": "stream",
          "name": "stdout",
          "text": [
            "f_value = 1.5106382978723403\n",
            "critical_val = 4.994909219063238\n",
            "We reject the Alternate Hypothesis\n",
            "Accept the Null Hypothesis\n",
            "f_value = 1.5106382978723403\n",
            "critical_val = 8.885389029419123\n",
            "We reject the Alternate Hypothesis\n",
            "Accept the Null Hypothesis\n"
          ]
        }
      ],
      "source": [
        "import numpy as np\n",
        "from scipy.stats import f\n",
        "\n",
        "sample1 = np.array([29, 30, 31, 31, 31, 30, 31, 28])\n",
        "sample2 = np.array([31, 31, 31, 32, 31, 30, 29, 30])\n",
        "\n",
        "def htm(sample1, sample2, alpha):\n",
        "    n1 = np.size(sample1)\n",
        "    n2 = np.size(sample2)\n",
        "    x1_bar = np.mean(sample1)\n",
        "    x2_bar = np.mean(sample2)\n",
        "    s1_square = np.var(sample1, ddof=1)\n",
        "    s2_square = np.var(sample2, ddof=1)\n",
        "\n",
        "    if s1_square >= s2_square:\n",
        "        f_value = s1_square / s2_square\n",
        "        df1 = n1 - 1\n",
        "        df2 = n2 - 1\n",
        "    else:\n",
        "        f_value = s2_square / s1_square\n",
        "        df1 = n2 - 1\n",
        "        df2 = n1 - 1\n",
        "\n",
        "    critical_val = f.ppf((1 - alpha / 2), df1, df2)\n",
        "    print(\"f_value =\", f_value)\n",
        "    print(\"critical_val =\", critical_val)\n",
        "\n",
        "    if f_value > critical_val:\n",
        "        print(\"We reject Null Hypothesis\\nAccept the alternate Hypothesis\")\n",
        "    else:\n",
        "        print(\"We reject the Alternate Hypothesis\\nAccept the Null Hypothesis\")\n",
        "\n",
        "htm(sample1, sample2, 0.05)\n",
        "htm(sample1, sample2, 0.01)\n"
      ]
    }
  ]
}