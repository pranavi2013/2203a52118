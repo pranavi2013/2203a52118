{
  "nbformat": 4,
  "nbformat_minor": 0,
  "metadata": {
    "colab": {
      "provenance": []
    },
    "kernelspec": {
      "name": "python3",
      "display_name": "Python 3"
    },
    "language_info": {
      "name": "python"
    }
  },
  "cells": [
    {
      "cell_type": "code",
      "execution_count": 96,
      "metadata": {
        "id": "TerpnnM4lm-y"
      },
      "outputs": [],
      "source": [
        "import pandas as pd"
      ]
    },
    {
      "cell_type": "code",
      "source": [
        "df=pd.read_csv('/content/train.csv')\n",
        "print(df)"
      ],
      "metadata": {
        "colab": {
          "base_uri": "https://localhost:8080/"
        },
        "id": "XhUmWFPtlqtM",
        "outputId": "0dbebbc4-93fa-422c-969c-dbc4845edd40"
      },
      "execution_count": 97,
      "outputs": [
        {
          "output_type": "stream",
          "name": "stdout",
          "text": [
            "      battery_power  blue  clock_speed  dual_sim  fc  four_g  int_memory  \\\n",
            "0               842     0          2.2         0   1       0           7   \n",
            "1              1021     1          0.5         1   0       1          53   \n",
            "2               563     1          0.5         1   2       1          41   \n",
            "3               615     1          2.5         0   0       0          10   \n",
            "4              1821     1          1.2         0  13       1          44   \n",
            "...             ...   ...          ...       ...  ..     ...         ...   \n",
            "1995            794     1          0.5         1   0       1           2   \n",
            "1996           1965     1          2.6         1   0       0          39   \n",
            "1997           1911     0          0.9         1   1       1          36   \n",
            "1998           1512     0          0.9         0   4       1          46   \n",
            "1999            510     1          2.0         1   5       1          45   \n",
            "\n",
            "      m_dep  mobile_wt  n_cores  ...  px_height  px_width   ram  sc_h  sc_w  \\\n",
            "0       0.6        188        2  ...         20       756  2549     9     7   \n",
            "1       0.7        136        3  ...        905      1988  2631    17     3   \n",
            "2       0.9        145        5  ...       1263      1716  2603    11     2   \n",
            "3       0.8        131        6  ...       1216      1786  2769    16     8   \n",
            "4       0.6        141        2  ...       1208      1212  1411     8     2   \n",
            "...     ...        ...      ...  ...        ...       ...   ...   ...   ...   \n",
            "1995    0.8        106        6  ...       1222      1890   668    13     4   \n",
            "1996    0.2        187        4  ...        915      1965  2032    11    10   \n",
            "1997    0.7        108        8  ...        868      1632  3057     9     1   \n",
            "1998    0.1        145        5  ...        336       670   869    18    10   \n",
            "1999    0.9        168        6  ...        483       754  3919    19     4   \n",
            "\n",
            "      talk_time  three_g  touch_screen  wifi  price_range  \n",
            "0            19        0             0     1            1  \n",
            "1             7        1             1     0            2  \n",
            "2             9        1             1     0            2  \n",
            "3            11        1             0     0            2  \n",
            "4            15        1             1     0            1  \n",
            "...         ...      ...           ...   ...          ...  \n",
            "1995         19        1             1     0            0  \n",
            "1996         16        1             1     1            2  \n",
            "1997          5        1             1     0            3  \n",
            "1998         19        1             1     1            0  \n",
            "1999          2        1             1     1            3  \n",
            "\n",
            "[2000 rows x 21 columns]\n"
          ]
        }
      ]
    },
    {
      "cell_type": "code",
      "source": [
        "df.columns"
      ],
      "metadata": {
        "colab": {
          "base_uri": "https://localhost:8080/"
        },
        "id": "6nghWZfHl0l9",
        "outputId": "671c82e2-f639-4c33-9735-ff05b9574eca"
      },
      "execution_count": 98,
      "outputs": [
        {
          "output_type": "execute_result",
          "data": {
            "text/plain": [
              "Index(['battery_power', 'blue', 'clock_speed', 'dual_sim', 'fc', 'four_g',\n",
              "       'int_memory', 'm_dep', 'mobile_wt', 'n_cores', 'pc', 'px_height',\n",
              "       'px_width', 'ram', 'sc_h', 'sc_w', 'talk_time', 'three_g',\n",
              "       'touch_screen', 'wifi', 'price_range'],\n",
              "      dtype='object')"
            ]
          },
          "metadata": {},
          "execution_count": 98
        }
      ]
    },
    {
      "cell_type": "code",
      "source": [
        "y=df['price_range']#target"
      ],
      "metadata": {
        "id": "C2HdM68Vme5o"
      },
      "execution_count": 99,
      "outputs": []
    },
    {
      "cell_type": "code",
      "source": [
        "x=df[['battery_power', 'blue', 'clock_speed', 'dual_sim', 'fc', 'four_g',\n",
        "       'int_memory', 'm_dep', 'mobile_wt', 'n_cores', 'pc', 'px_height',\n",
        "       'px_width', 'ram', 'sc_h', 'sc_w', 'talk_time', 'three_g',\n",
        "       'touch_screen', 'wifi']]#features"
      ],
      "metadata": {
        "id": "RHi0ULVHmjHj"
      },
      "execution_count": 100,
      "outputs": []
    },
    {
      "cell_type": "code",
      "source": [
        "#min max scaling:\n",
        "from sklearn.preprocessing import MinMaxScaler"
      ],
      "metadata": {
        "id": "uTbosMmimpM-"
      },
      "execution_count": 101,
      "outputs": []
    },
    {
      "cell_type": "code",
      "source": [
        "x.head(2)"
      ],
      "metadata": {
        "colab": {
          "base_uri": "https://localhost:8080/",
          "height": 176
        },
        "id": "vxso_DDvnsX2",
        "outputId": "3570f42f-8d64-4622-a58a-8d2c85b699a3"
      },
      "execution_count": 41,
      "outputs": [
        {
          "output_type": "execute_result",
          "data": {
            "text/plain": [
              "   battery_power  blue  clock_speed  dual_sim  fc  four_g  int_memory  m_dep  \\\n",
              "0            842     0          2.2         0   1       0           7    0.6   \n",
              "1           1021     1          0.5         1   0       1          53    0.7   \n",
              "\n",
              "   mobile_wt  n_cores  pc  px_height  px_width   ram  sc_h  sc_w  talk_time  \\\n",
              "0        188        2   2         20       756  2549     9     7         19   \n",
              "1        136        3   6        905      1988  2631    17     3          7   \n",
              "\n",
              "   three_g  touch_screen  wifi  \n",
              "0        0             0     1  \n",
              "1        1             1     0  "
            ],
            "text/html": [
              "\n",
              "\n",
              "  <div id=\"df-1b405aab-8d6c-419c-98be-0fa430ca8668\">\n",
              "    <div class=\"colab-df-container\">\n",
              "      <div>\n",
              "<style scoped>\n",
              "    .dataframe tbody tr th:only-of-type {\n",
              "        vertical-align: middle;\n",
              "    }\n",
              "\n",
              "    .dataframe tbody tr th {\n",
              "        vertical-align: top;\n",
              "    }\n",
              "\n",
              "    .dataframe thead th {\n",
              "        text-align: right;\n",
              "    }\n",
              "</style>\n",
              "<table border=\"1\" class=\"dataframe\">\n",
              "  <thead>\n",
              "    <tr style=\"text-align: right;\">\n",
              "      <th></th>\n",
              "      <th>battery_power</th>\n",
              "      <th>blue</th>\n",
              "      <th>clock_speed</th>\n",
              "      <th>dual_sim</th>\n",
              "      <th>fc</th>\n",
              "      <th>four_g</th>\n",
              "      <th>int_memory</th>\n",
              "      <th>m_dep</th>\n",
              "      <th>mobile_wt</th>\n",
              "      <th>n_cores</th>\n",
              "      <th>pc</th>\n",
              "      <th>px_height</th>\n",
              "      <th>px_width</th>\n",
              "      <th>ram</th>\n",
              "      <th>sc_h</th>\n",
              "      <th>sc_w</th>\n",
              "      <th>talk_time</th>\n",
              "      <th>three_g</th>\n",
              "      <th>touch_screen</th>\n",
              "      <th>wifi</th>\n",
              "    </tr>\n",
              "  </thead>\n",
              "  <tbody>\n",
              "    <tr>\n",
              "      <th>0</th>\n",
              "      <td>842</td>\n",
              "      <td>0</td>\n",
              "      <td>2.2</td>\n",
              "      <td>0</td>\n",
              "      <td>1</td>\n",
              "      <td>0</td>\n",
              "      <td>7</td>\n",
              "      <td>0.6</td>\n",
              "      <td>188</td>\n",
              "      <td>2</td>\n",
              "      <td>2</td>\n",
              "      <td>20</td>\n",
              "      <td>756</td>\n",
              "      <td>2549</td>\n",
              "      <td>9</td>\n",
              "      <td>7</td>\n",
              "      <td>19</td>\n",
              "      <td>0</td>\n",
              "      <td>0</td>\n",
              "      <td>1</td>\n",
              "    </tr>\n",
              "    <tr>\n",
              "      <th>1</th>\n",
              "      <td>1021</td>\n",
              "      <td>1</td>\n",
              "      <td>0.5</td>\n",
              "      <td>1</td>\n",
              "      <td>0</td>\n",
              "      <td>1</td>\n",
              "      <td>53</td>\n",
              "      <td>0.7</td>\n",
              "      <td>136</td>\n",
              "      <td>3</td>\n",
              "      <td>6</td>\n",
              "      <td>905</td>\n",
              "      <td>1988</td>\n",
              "      <td>2631</td>\n",
              "      <td>17</td>\n",
              "      <td>3</td>\n",
              "      <td>7</td>\n",
              "      <td>1</td>\n",
              "      <td>1</td>\n",
              "      <td>0</td>\n",
              "    </tr>\n",
              "  </tbody>\n",
              "</table>\n",
              "</div>\n",
              "      <button class=\"colab-df-convert\" onclick=\"convertToInteractive('df-1b405aab-8d6c-419c-98be-0fa430ca8668')\"\n",
              "              title=\"Convert this dataframe to an interactive table.\"\n",
              "              style=\"display:none;\">\n",
              "\n",
              "  <svg xmlns=\"http://www.w3.org/2000/svg\" height=\"24px\"viewBox=\"0 0 24 24\"\n",
              "       width=\"24px\">\n",
              "    <path d=\"M0 0h24v24H0V0z\" fill=\"none\"/>\n",
              "    <path d=\"M18.56 5.44l.94 2.06.94-2.06 2.06-.94-2.06-.94-.94-2.06-.94 2.06-2.06.94zm-11 1L8.5 8.5l.94-2.06 2.06-.94-2.06-.94L8.5 2.5l-.94 2.06-2.06.94zm10 10l.94 2.06.94-2.06 2.06-.94-2.06-.94-.94-2.06-.94 2.06-2.06.94z\"/><path d=\"M17.41 7.96l-1.37-1.37c-.4-.4-.92-.59-1.43-.59-.52 0-1.04.2-1.43.59L10.3 9.45l-7.72 7.72c-.78.78-.78 2.05 0 2.83L4 21.41c.39.39.9.59 1.41.59.51 0 1.02-.2 1.41-.59l7.78-7.78 2.81-2.81c.8-.78.8-2.07 0-2.86zM5.41 20L4 18.59l7.72-7.72 1.47 1.35L5.41 20z\"/>\n",
              "  </svg>\n",
              "      </button>\n",
              "\n",
              "\n",
              "\n",
              "    <div id=\"df-9c4d5ea3-8865-44f5-bb4d-01a1d4fc3a21\">\n",
              "      <button class=\"colab-df-quickchart\" onclick=\"quickchart('df-9c4d5ea3-8865-44f5-bb4d-01a1d4fc3a21')\"\n",
              "              title=\"Suggest charts.\"\n",
              "              style=\"display:none;\">\n",
              "\n",
              "<svg xmlns=\"http://www.w3.org/2000/svg\" height=\"24px\"viewBox=\"0 0 24 24\"\n",
              "     width=\"24px\">\n",
              "    <g>\n",
              "        <path d=\"M19 3H5c-1.1 0-2 .9-2 2v14c0 1.1.9 2 2 2h14c1.1 0 2-.9 2-2V5c0-1.1-.9-2-2-2zM9 17H7v-7h2v7zm4 0h-2V7h2v10zm4 0h-2v-4h2v4z\"/>\n",
              "    </g>\n",
              "</svg>\n",
              "      </button>\n",
              "    </div>\n",
              "\n",
              "<style>\n",
              "  .colab-df-quickchart {\n",
              "    background-color: #E8F0FE;\n",
              "    border: none;\n",
              "    border-radius: 50%;\n",
              "    cursor: pointer;\n",
              "    display: none;\n",
              "    fill: #1967D2;\n",
              "    height: 32px;\n",
              "    padding: 0 0 0 0;\n",
              "    width: 32px;\n",
              "  }\n",
              "\n",
              "  .colab-df-quickchart:hover {\n",
              "    background-color: #E2EBFA;\n",
              "    box-shadow: 0px 1px 2px rgba(60, 64, 67, 0.3), 0px 1px 3px 1px rgba(60, 64, 67, 0.15);\n",
              "    fill: #174EA6;\n",
              "  }\n",
              "\n",
              "  [theme=dark] .colab-df-quickchart {\n",
              "    background-color: #3B4455;\n",
              "    fill: #D2E3FC;\n",
              "  }\n",
              "\n",
              "  [theme=dark] .colab-df-quickchart:hover {\n",
              "    background-color: #434B5C;\n",
              "    box-shadow: 0px 1px 3px 1px rgba(0, 0, 0, 0.15);\n",
              "    filter: drop-shadow(0px 1px 2px rgba(0, 0, 0, 0.3));\n",
              "    fill: #FFFFFF;\n",
              "  }\n",
              "</style>\n",
              "\n",
              "    <script>\n",
              "      async function quickchart(key) {\n",
              "        const containerElement = document.querySelector('#' + key);\n",
              "        const charts = await google.colab.kernel.invokeFunction(\n",
              "            'suggestCharts', [key], {});\n",
              "      }\n",
              "    </script>\n",
              "\n",
              "      <script>\n",
              "\n",
              "function displayQuickchartButton(domScope) {\n",
              "  let quickchartButtonEl =\n",
              "    domScope.querySelector('#df-9c4d5ea3-8865-44f5-bb4d-01a1d4fc3a21 button.colab-df-quickchart');\n",
              "  quickchartButtonEl.style.display =\n",
              "    google.colab.kernel.accessAllowed ? 'block' : 'none';\n",
              "}\n",
              "\n",
              "        displayQuickchartButton(document);\n",
              "      </script>\n",
              "      <style>\n",
              "    .colab-df-container {\n",
              "      display:flex;\n",
              "      flex-wrap:wrap;\n",
              "      gap: 12px;\n",
              "    }\n",
              "\n",
              "    .colab-df-convert {\n",
              "      background-color: #E8F0FE;\n",
              "      border: none;\n",
              "      border-radius: 50%;\n",
              "      cursor: pointer;\n",
              "      display: none;\n",
              "      fill: #1967D2;\n",
              "      height: 32px;\n",
              "      padding: 0 0 0 0;\n",
              "      width: 32px;\n",
              "    }\n",
              "\n",
              "    .colab-df-convert:hover {\n",
              "      background-color: #E2EBFA;\n",
              "      box-shadow: 0px 1px 2px rgba(60, 64, 67, 0.3), 0px 1px 3px 1px rgba(60, 64, 67, 0.15);\n",
              "      fill: #174EA6;\n",
              "    }\n",
              "\n",
              "    [theme=dark] .colab-df-convert {\n",
              "      background-color: #3B4455;\n",
              "      fill: #D2E3FC;\n",
              "    }\n",
              "\n",
              "    [theme=dark] .colab-df-convert:hover {\n",
              "      background-color: #434B5C;\n",
              "      box-shadow: 0px 1px 3px 1px rgba(0, 0, 0, 0.15);\n",
              "      filter: drop-shadow(0px 1px 2px rgba(0, 0, 0, 0.3));\n",
              "      fill: #FFFFFF;\n",
              "    }\n",
              "  </style>\n",
              "\n",
              "      <script>\n",
              "        const buttonEl =\n",
              "          document.querySelector('#df-1b405aab-8d6c-419c-98be-0fa430ca8668 button.colab-df-convert');\n",
              "        buttonEl.style.display =\n",
              "          google.colab.kernel.accessAllowed ? 'block' : 'none';\n",
              "\n",
              "        async function convertToInteractive(key) {\n",
              "          const element = document.querySelector('#df-1b405aab-8d6c-419c-98be-0fa430ca8668');\n",
              "          const dataTable =\n",
              "            await google.colab.kernel.invokeFunction('convertToInteractive',\n",
              "                                                     [key], {});\n",
              "          if (!dataTable) return;\n",
              "\n",
              "          const docLinkHtml = 'Like what you see? Visit the ' +\n",
              "            '<a target=\"_blank\" href=https://colab.research.google.com/notebooks/data_table.ipynb>data table notebook</a>'\n",
              "            + ' to learn more about interactive tables.';\n",
              "          element.innerHTML = '';\n",
              "          dataTable['output_type'] = 'display_data';\n",
              "          await google.colab.output.renderOutput(dataTable, element);\n",
              "          const docLink = document.createElement('div');\n",
              "          docLink.innerHTML = docLinkHtml;\n",
              "          element.appendChild(docLink);\n",
              "        }\n",
              "      </script>\n",
              "    </div>\n",
              "  </div>\n"
            ]
          },
          "metadata": {},
          "execution_count": 41
        }
      ]
    },
    {
      "cell_type": "code",
      "source": [
        "scalar=MinMaxScaler()#normalized\n",
        "scalar.fit(x)\n",
        "x_scaled=scalar.transform(x)\n",
        "print(x_scaled)"
      ],
      "metadata": {
        "colab": {
          "base_uri": "https://localhost:8080/"
        },
        "id": "PgqFAmKjnuRu",
        "outputId": "9b31c0f4-36dd-441a-cb94-bf0af139b86f"
      },
      "execution_count": 102,
      "outputs": [
        {
          "output_type": "stream",
          "name": "stdout",
          "text": [
            "[[0.22778891 0.         0.68       ... 0.         0.         1.        ]\n",
            " [0.34736139 1.         0.         ... 1.         1.         0.        ]\n",
            " [0.04141617 1.         0.         ... 1.         1.         0.        ]\n",
            " ...\n",
            " [0.94188377 0.         0.16       ... 1.         1.         0.        ]\n",
            " [0.6753507  0.         0.16       ... 1.         1.         1.        ]\n",
            " [0.00601202 1.         0.6        ... 1.         1.         1.        ]]\n"
          ]
        }
      ]
    },
    {
      "cell_type": "code",
      "source": [
        "from sklearn.model_selection import train_test_split\n",
        "x=df.drop('price_range',axis=1)\n",
        "y=df['price_range']\n",
        "x_scaled_train, x_scaled_test, y_train, y_test = train_test_split(\n",
        "    x, y,test_size=0.2,random_state=10)"
      ],
      "metadata": {
        "id": "xU3xbpp_oVGZ"
      },
      "execution_count": 103,
      "outputs": []
    },
    {
      "cell_type": "code",
      "source": [
        "#chceking the shape of orginal data\n",
        "df.shape"
      ],
      "metadata": {
        "colab": {
          "base_uri": "https://localhost:8080/"
        },
        "id": "H0yhuNi7pMPS",
        "outputId": "61d1f668-204d-495b-d5f6-479e864d5460"
      },
      "execution_count": 104,
      "outputs": [
        {
          "output_type": "execute_result",
          "data": {
            "text/plain": [
              "(2000, 21)"
            ]
          },
          "metadata": {},
          "execution_count": 104
        }
      ]
    },
    {
      "cell_type": "code",
      "source": [
        "#shape of traing and testing data\n",
        "print(x_scaled_train.shape)\n",
        "print(x_scaled_test.shape)\n",
        "print(y_train.shape)\n",
        "print(y_test.shape)"
      ],
      "metadata": {
        "colab": {
          "base_uri": "https://localhost:8080/"
        },
        "id": "x1Ry0OjIqO_B",
        "outputId": "b4d59b92-49cb-46d0-8304-620683a42380"
      },
      "execution_count": 105,
      "outputs": [
        {
          "output_type": "stream",
          "name": "stdout",
          "text": [
            "(1600, 20)\n",
            "(400, 20)\n",
            "(1600,)\n",
            "(400,)\n"
          ]
        }
      ]
    },
    {
      "cell_type": "code",
      "source": [
        "col=df.columns\n",
        "for i in col:\n",
        "  print(df[i])"
      ],
      "metadata": {
        "id": "zrczbhp0qVgP",
        "colab": {
          "base_uri": "https://localhost:8080/"
        },
        "outputId": "c32bee20-5d63-4c0c-b5cb-f48bb5692f2f"
      },
      "execution_count": 106,
      "outputs": [
        {
          "output_type": "stream",
          "name": "stdout",
          "text": [
            "0        842\n",
            "1       1021\n",
            "2        563\n",
            "3        615\n",
            "4       1821\n",
            "        ... \n",
            "1995     794\n",
            "1996    1965\n",
            "1997    1911\n",
            "1998    1512\n",
            "1999     510\n",
            "Name: battery_power, Length: 2000, dtype: int64\n",
            "0       0\n",
            "1       1\n",
            "2       1\n",
            "3       1\n",
            "4       1\n",
            "       ..\n",
            "1995    1\n",
            "1996    1\n",
            "1997    0\n",
            "1998    0\n",
            "1999    1\n",
            "Name: blue, Length: 2000, dtype: int64\n",
            "0       2.2\n",
            "1       0.5\n",
            "2       0.5\n",
            "3       2.5\n",
            "4       1.2\n",
            "       ... \n",
            "1995    0.5\n",
            "1996    2.6\n",
            "1997    0.9\n",
            "1998    0.9\n",
            "1999    2.0\n",
            "Name: clock_speed, Length: 2000, dtype: float64\n",
            "0       0\n",
            "1       1\n",
            "2       1\n",
            "3       0\n",
            "4       0\n",
            "       ..\n",
            "1995    1\n",
            "1996    1\n",
            "1997    1\n",
            "1998    0\n",
            "1999    1\n",
            "Name: dual_sim, Length: 2000, dtype: int64\n",
            "0        1\n",
            "1        0\n",
            "2        2\n",
            "3        0\n",
            "4       13\n",
            "        ..\n",
            "1995     0\n",
            "1996     0\n",
            "1997     1\n",
            "1998     4\n",
            "1999     5\n",
            "Name: fc, Length: 2000, dtype: int64\n",
            "0       0\n",
            "1       1\n",
            "2       1\n",
            "3       0\n",
            "4       1\n",
            "       ..\n",
            "1995    1\n",
            "1996    0\n",
            "1997    1\n",
            "1998    1\n",
            "1999    1\n",
            "Name: four_g, Length: 2000, dtype: int64\n",
            "0        7\n",
            "1       53\n",
            "2       41\n",
            "3       10\n",
            "4       44\n",
            "        ..\n",
            "1995     2\n",
            "1996    39\n",
            "1997    36\n",
            "1998    46\n",
            "1999    45\n",
            "Name: int_memory, Length: 2000, dtype: int64\n",
            "0       0.6\n",
            "1       0.7\n",
            "2       0.9\n",
            "3       0.8\n",
            "4       0.6\n",
            "       ... \n",
            "1995    0.8\n",
            "1996    0.2\n",
            "1997    0.7\n",
            "1998    0.1\n",
            "1999    0.9\n",
            "Name: m_dep, Length: 2000, dtype: float64\n",
            "0       188\n",
            "1       136\n",
            "2       145\n",
            "3       131\n",
            "4       141\n",
            "       ... \n",
            "1995    106\n",
            "1996    187\n",
            "1997    108\n",
            "1998    145\n",
            "1999    168\n",
            "Name: mobile_wt, Length: 2000, dtype: int64\n",
            "0       2\n",
            "1       3\n",
            "2       5\n",
            "3       6\n",
            "4       2\n",
            "       ..\n",
            "1995    6\n",
            "1996    4\n",
            "1997    8\n",
            "1998    5\n",
            "1999    6\n",
            "Name: n_cores, Length: 2000, dtype: int64\n",
            "0        2\n",
            "1        6\n",
            "2        6\n",
            "3        9\n",
            "4       14\n",
            "        ..\n",
            "1995    14\n",
            "1996     3\n",
            "1997     3\n",
            "1998     5\n",
            "1999    16\n",
            "Name: pc, Length: 2000, dtype: int64\n",
            "0         20\n",
            "1        905\n",
            "2       1263\n",
            "3       1216\n",
            "4       1208\n",
            "        ... \n",
            "1995    1222\n",
            "1996     915\n",
            "1997     868\n",
            "1998     336\n",
            "1999     483\n",
            "Name: px_height, Length: 2000, dtype: int64\n",
            "0        756\n",
            "1       1988\n",
            "2       1716\n",
            "3       1786\n",
            "4       1212\n",
            "        ... \n",
            "1995    1890\n",
            "1996    1965\n",
            "1997    1632\n",
            "1998     670\n",
            "1999     754\n",
            "Name: px_width, Length: 2000, dtype: int64\n",
            "0       2549\n",
            "1       2631\n",
            "2       2603\n",
            "3       2769\n",
            "4       1411\n",
            "        ... \n",
            "1995     668\n",
            "1996    2032\n",
            "1997    3057\n",
            "1998     869\n",
            "1999    3919\n",
            "Name: ram, Length: 2000, dtype: int64\n",
            "0        9\n",
            "1       17\n",
            "2       11\n",
            "3       16\n",
            "4        8\n",
            "        ..\n",
            "1995    13\n",
            "1996    11\n",
            "1997     9\n",
            "1998    18\n",
            "1999    19\n",
            "Name: sc_h, Length: 2000, dtype: int64\n",
            "0        7\n",
            "1        3\n",
            "2        2\n",
            "3        8\n",
            "4        2\n",
            "        ..\n",
            "1995     4\n",
            "1996    10\n",
            "1997     1\n",
            "1998    10\n",
            "1999     4\n",
            "Name: sc_w, Length: 2000, dtype: int64\n",
            "0       19\n",
            "1        7\n",
            "2        9\n",
            "3       11\n",
            "4       15\n",
            "        ..\n",
            "1995    19\n",
            "1996    16\n",
            "1997     5\n",
            "1998    19\n",
            "1999     2\n",
            "Name: talk_time, Length: 2000, dtype: int64\n",
            "0       0\n",
            "1       1\n",
            "2       1\n",
            "3       1\n",
            "4       1\n",
            "       ..\n",
            "1995    1\n",
            "1996    1\n",
            "1997    1\n",
            "1998    1\n",
            "1999    1\n",
            "Name: three_g, Length: 2000, dtype: int64\n",
            "0       0\n",
            "1       1\n",
            "2       1\n",
            "3       0\n",
            "4       1\n",
            "       ..\n",
            "1995    1\n",
            "1996    1\n",
            "1997    1\n",
            "1998    1\n",
            "1999    1\n",
            "Name: touch_screen, Length: 2000, dtype: int64\n",
            "0       1\n",
            "1       0\n",
            "2       0\n",
            "3       0\n",
            "4       0\n",
            "       ..\n",
            "1995    0\n",
            "1996    1\n",
            "1997    0\n",
            "1998    1\n",
            "1999    1\n",
            "Name: wifi, Length: 2000, dtype: int64\n",
            "0       1\n",
            "1       2\n",
            "2       2\n",
            "3       2\n",
            "4       1\n",
            "       ..\n",
            "1995    0\n",
            "1996    2\n",
            "1997    3\n",
            "1998    0\n",
            "1999    3\n",
            "Name: price_range, Length: 2000, dtype: int64\n"
          ]
        }
      ]
    },
    {
      "cell_type": "code",
      "source": [
        "import pandas as pd"
      ],
      "metadata": {
        "id": "VqMsCTi3wN1S"
      },
      "execution_count": 107,
      "outputs": []
    },
    {
      "cell_type": "code",
      "source": [
        "df=pd.read_csv('/content/heart.csv')\n",
        "print(df)"
      ],
      "metadata": {
        "colab": {
          "base_uri": "https://localhost:8080/"
        },
        "id": "wav5VzRDwhN-",
        "outputId": "1bfd392e-6c3f-4ae7-da03-4e59b79f0a2d"
      },
      "execution_count": 108,
      "outputs": [
        {
          "output_type": "stream",
          "name": "stdout",
          "text": [
            "     age  sex  cp  trestbps  chol  fbs  restecg  thalach  exang  oldpeak  \\\n",
            "0     63    1   3       145   233    1        0      150      0      2.3   \n",
            "1     37    1   2       130   250    0        1      187      0      3.5   \n",
            "2     41    0   1       130   204    0        0      172      0      1.4   \n",
            "3     56    1   1       120   236    0        1      178      0      0.8   \n",
            "4     57    0   0       120   354    0        1      163      1      0.6   \n",
            "..   ...  ...  ..       ...   ...  ...      ...      ...    ...      ...   \n",
            "298   57    0   0       140   241    0        1      123      1      0.2   \n",
            "299   45    1   3       110   264    0        1      132      0      1.2   \n",
            "300   68    1   0       144   193    1        1      141      0      3.4   \n",
            "301   57    1   0       130   131    0        1      115      1      1.2   \n",
            "302   57    0   1       130   236    0        0      174      0      0.0   \n",
            "\n",
            "     slope  ca  thal  target  \n",
            "0        0   0     1       1  \n",
            "1        0   0     2       1  \n",
            "2        2   0     2       1  \n",
            "3        2   0     2       1  \n",
            "4        2   0     2       1  \n",
            "..     ...  ..   ...     ...  \n",
            "298      1   0     3       0  \n",
            "299      1   0     3       0  \n",
            "300      1   2     3       0  \n",
            "301      1   1     3       0  \n",
            "302      1   1     2       0  \n",
            "\n",
            "[303 rows x 14 columns]\n"
          ]
        }
      ]
    },
    {
      "cell_type": "code",
      "source": [
        "df.columns"
      ],
      "metadata": {
        "colab": {
          "base_uri": "https://localhost:8080/"
        },
        "id": "TZc1JXehwq6f",
        "outputId": "12760991-b9f1-4b96-f63d-6512958d01bf"
      },
      "execution_count": 109,
      "outputs": [
        {
          "output_type": "execute_result",
          "data": {
            "text/plain": [
              "Index(['age', 'sex', 'cp', 'trestbps', 'chol', 'fbs', 'restecg', 'thalach',\n",
              "       'exang', 'oldpeak', 'slope', 'ca', 'thal', 'target'],\n",
              "      dtype='object')"
            ]
          },
          "metadata": {},
          "execution_count": 109
        }
      ]
    },
    {
      "cell_type": "code",
      "source": [
        "y=df['target']#target"
      ],
      "metadata": {
        "id": "LBWiMjkpwvbj"
      },
      "execution_count": 110,
      "outputs": []
    },
    {
      "cell_type": "code",
      "source": [
        "x=df[['age', 'sex', 'cp', 'trestbps', 'chol', 'fbs', 'restecg', 'thalach',\n",
        "       'exang', 'oldpeak', 'slope', 'ca', 'thal']]#features"
      ],
      "metadata": {
        "id": "7MBb4Ju5wyuf"
      },
      "execution_count": 111,
      "outputs": []
    },
    {
      "cell_type": "code",
      "source": [
        "#min max scaling:\n",
        "from sklearn.preprocessing import MinMaxScaler"
      ],
      "metadata": {
        "id": "g8c37DPVw6y_"
      },
      "execution_count": 112,
      "outputs": []
    },
    {
      "cell_type": "code",
      "source": [
        "scalar=MinMaxScaler()#normalized\n",
        "scalar.fit(x)\n",
        "x_scaled=scalar.transform(x)\n",
        "print(x_scaled)"
      ],
      "metadata": {
        "colab": {
          "base_uri": "https://localhost:8080/"
        },
        "id": "x8J258LxxAKO",
        "outputId": "cabe5488-ba52-4636-8e0e-bb1bff4e37d4"
      },
      "execution_count": 113,
      "outputs": [
        {
          "output_type": "stream",
          "name": "stdout",
          "text": [
            "[[0.70833333 1.         1.         ... 0.         0.         0.33333333]\n",
            " [0.16666667 1.         0.66666667 ... 0.         0.         0.66666667]\n",
            " [0.25       0.         0.33333333 ... 1.         0.         0.66666667]\n",
            " ...\n",
            " [0.8125     1.         0.         ... 0.5        0.5        1.        ]\n",
            " [0.58333333 1.         0.         ... 0.5        0.25       1.        ]\n",
            " [0.58333333 0.         0.33333333 ... 0.5        0.25       0.66666667]]\n"
          ]
        }
      ]
    },
    {
      "cell_type": "code",
      "source": [
        "from sklearn.model_selection import train_test_split\n",
        "x=df.drop('target',axis=1)\n",
        "y=df['target']\n",
        "x_scaled_train, x_scaled_test, y_train, y_test = train_test_split(\n",
        "    x, y,test_size=0.2,random_state=10)"
      ],
      "metadata": {
        "id": "nhyxeHqUxHL8"
      },
      "execution_count": 114,
      "outputs": []
    },
    {
      "cell_type": "code",
      "source": [
        "#chceking the shape of orginal data\n",
        "df.shape"
      ],
      "metadata": {
        "colab": {
          "base_uri": "https://localhost:8080/"
        },
        "id": "HuccgVcXxZrI",
        "outputId": "07cb2a0c-0166-4433-9627-4a88be072542"
      },
      "execution_count": 115,
      "outputs": [
        {
          "output_type": "execute_result",
          "data": {
            "text/plain": [
              "(303, 14)"
            ]
          },
          "metadata": {},
          "execution_count": 115
        }
      ]
    },
    {
      "cell_type": "code",
      "source": [
        "#shape of traing and testing data\n",
        "print(x_scaled_train.shape)\n",
        "print(x_scaled_test.shape)\n",
        "print(y_train.shape)\n",
        "print(y_test.shape)"
      ],
      "metadata": {
        "colab": {
          "base_uri": "https://localhost:8080/"
        },
        "id": "7sa9mJWVxftR",
        "outputId": "06f46775-7536-4ca4-e22a-a01b01a63f5b"
      },
      "execution_count": 116,
      "outputs": [
        {
          "output_type": "stream",
          "name": "stdout",
          "text": [
            "(242, 13)\n",
            "(61, 13)\n",
            "(242,)\n",
            "(61,)\n"
          ]
        }
      ]
    },
    {
      "cell_type": "code",
      "source": [
        "col=df.columns\n",
        "for i in col:\n",
        "  print(df[i])"
      ],
      "metadata": {
        "colab": {
          "base_uri": "https://localhost:8080/"
        },
        "id": "dnUgZl3IxnVm",
        "outputId": "0d19b441-4ff9-4155-d1a9-484307cde554"
      },
      "execution_count": 117,
      "outputs": [
        {
          "output_type": "stream",
          "name": "stdout",
          "text": [
            "0      63\n",
            "1      37\n",
            "2      41\n",
            "3      56\n",
            "4      57\n",
            "       ..\n",
            "298    57\n",
            "299    45\n",
            "300    68\n",
            "301    57\n",
            "302    57\n",
            "Name: age, Length: 303, dtype: int64\n",
            "0      1\n",
            "1      1\n",
            "2      0\n",
            "3      1\n",
            "4      0\n",
            "      ..\n",
            "298    0\n",
            "299    1\n",
            "300    1\n",
            "301    1\n",
            "302    0\n",
            "Name: sex, Length: 303, dtype: int64\n",
            "0      3\n",
            "1      2\n",
            "2      1\n",
            "3      1\n",
            "4      0\n",
            "      ..\n",
            "298    0\n",
            "299    3\n",
            "300    0\n",
            "301    0\n",
            "302    1\n",
            "Name: cp, Length: 303, dtype: int64\n",
            "0      145\n",
            "1      130\n",
            "2      130\n",
            "3      120\n",
            "4      120\n",
            "      ... \n",
            "298    140\n",
            "299    110\n",
            "300    144\n",
            "301    130\n",
            "302    130\n",
            "Name: trestbps, Length: 303, dtype: int64\n",
            "0      233\n",
            "1      250\n",
            "2      204\n",
            "3      236\n",
            "4      354\n",
            "      ... \n",
            "298    241\n",
            "299    264\n",
            "300    193\n",
            "301    131\n",
            "302    236\n",
            "Name: chol, Length: 303, dtype: int64\n",
            "0      1\n",
            "1      0\n",
            "2      0\n",
            "3      0\n",
            "4      0\n",
            "      ..\n",
            "298    0\n",
            "299    0\n",
            "300    1\n",
            "301    0\n",
            "302    0\n",
            "Name: fbs, Length: 303, dtype: int64\n",
            "0      0\n",
            "1      1\n",
            "2      0\n",
            "3      1\n",
            "4      1\n",
            "      ..\n",
            "298    1\n",
            "299    1\n",
            "300    1\n",
            "301    1\n",
            "302    0\n",
            "Name: restecg, Length: 303, dtype: int64\n",
            "0      150\n",
            "1      187\n",
            "2      172\n",
            "3      178\n",
            "4      163\n",
            "      ... \n",
            "298    123\n",
            "299    132\n",
            "300    141\n",
            "301    115\n",
            "302    174\n",
            "Name: thalach, Length: 303, dtype: int64\n",
            "0      0\n",
            "1      0\n",
            "2      0\n",
            "3      0\n",
            "4      1\n",
            "      ..\n",
            "298    1\n",
            "299    0\n",
            "300    0\n",
            "301    1\n",
            "302    0\n",
            "Name: exang, Length: 303, dtype: int64\n",
            "0      2.3\n",
            "1      3.5\n",
            "2      1.4\n",
            "3      0.8\n",
            "4      0.6\n",
            "      ... \n",
            "298    0.2\n",
            "299    1.2\n",
            "300    3.4\n",
            "301    1.2\n",
            "302    0.0\n",
            "Name: oldpeak, Length: 303, dtype: float64\n",
            "0      0\n",
            "1      0\n",
            "2      2\n",
            "3      2\n",
            "4      2\n",
            "      ..\n",
            "298    1\n",
            "299    1\n",
            "300    1\n",
            "301    1\n",
            "302    1\n",
            "Name: slope, Length: 303, dtype: int64\n",
            "0      0\n",
            "1      0\n",
            "2      0\n",
            "3      0\n",
            "4      0\n",
            "      ..\n",
            "298    0\n",
            "299    0\n",
            "300    2\n",
            "301    1\n",
            "302    1\n",
            "Name: ca, Length: 303, dtype: int64\n",
            "0      1\n",
            "1      2\n",
            "2      2\n",
            "3      2\n",
            "4      2\n",
            "      ..\n",
            "298    3\n",
            "299    3\n",
            "300    3\n",
            "301    3\n",
            "302    2\n",
            "Name: thal, Length: 303, dtype: int64\n",
            "0      1\n",
            "1      1\n",
            "2      1\n",
            "3      1\n",
            "4      1\n",
            "      ..\n",
            "298    0\n",
            "299    0\n",
            "300    0\n",
            "301    0\n",
            "302    0\n",
            "Name: target, Length: 303, dtype: int64\n"
          ]
        }
      ]
    },
    {
      "cell_type": "code",
      "source": [
        "import random\n",
        "y_p=[]\n",
        "def perceptron(weights,bias):\n",
        "    for i in range(len(x_scaled_test)):\n",
        "        z = np.dot(weights,x_scaled_test.iloc[i]) + bias\n",
        "        s = 1 / (1 + np.exp(-z))\n",
        "        if s>=0.5:\n",
        "          y_p.append(1)\n",
        "        else:\n",
        "          y_p.append(0)\n",
        "    return y_p\n",
        "\n",
        "# Initialize random weights and bias\n",
        "random.seed(42)  # For reproducibility\n",
        "weights = [random.uniform(-1, 1) for _ in range(len(x_scaled_test.columns))]\n",
        "bias = random.uniform(-1, 1)\n",
        "y_p = perceptron(weights,bias)\n",
        "print(y_p)"
      ],
      "metadata": {
        "colab": {
          "base_uri": "https://localhost:8080/"
        },
        "id": "0R8r52hy57B5",
        "outputId": "e0dbb0ac-0de1-4ea6-ab00-dd193ef5483e"
      },
      "execution_count": 118,
      "outputs": [
        {
          "output_type": "stream",
          "name": "stdout",
          "text": [
            "[1, 0, 0, 0, 0, 0, 0, 0, 0, 0, 0, 0, 0, 0, 0, 0, 0, 0, 0, 0, 0, 0, 0, 0, 0, 0, 0, 0, 0, 0, 0, 0, 0, 0, 0, 0, 0, 0, 0, 0, 0, 0, 0, 0, 0, 0, 0, 0, 0, 0, 0, 0, 0, 0, 0, 0, 0, 0, 0, 0, 0]\n"
          ]
        }
      ]
    },
    {
      "cell_type": "code",
      "source": [
        "from sklearn.metrics import accuracy_score\n",
        "accuracy=accuracy_score(y_test,y_p)\n",
        "print(\"Accuracy\",accuracy)"
      ],
      "metadata": {
        "colab": {
          "base_uri": "https://localhost:8080/"
        },
        "id": "Tq4bWALO2oSL",
        "outputId": "4dc9220f-3789-463f-8aed-b252e891e9ca"
      },
      "execution_count": 119,
      "outputs": [
        {
          "output_type": "stream",
          "name": "stdout",
          "text": [
            "Accuracy 0.5573770491803278\n"
          ]
        }
      ]
    },
    {
      "cell_type": "code",
      "source": [],
      "metadata": {
        "id": "lgOK9j0H21TG"
      },
      "execution_count": null,
      "outputs": []
    }
  ]
}