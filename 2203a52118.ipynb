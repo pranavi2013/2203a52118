{
  "nbformat": 4,
  "nbformat_minor": 0,
  "metadata": {
    "colab": {
      "provenance": [],
      "authorship_tag": "ABX9TyPuXALrsC2CKfhzIsFlHYcI",
      "include_colab_link": true
    },
    "kernelspec": {
      "name": "python3",
      "display_name": "Python 3"
    },
    "language_info": {
      "name": "python"
    }
  },
  "cells": [
    {
      "cell_type": "markdown",
      "metadata": {
        "id": "view-in-github",
        "colab_type": "text"
      },
      "source": [
        "<a href=\"https://colab.research.google.com/github/pranavi2013/2203a52118/blob/main/2203a52118.ipynb\" target=\"_parent\"><img src=\"https://colab.research.google.com/assets/colab-badge.svg\" alt=\"Open In Colab\"/></a>"
      ]
    },
    {
      "cell_type": "code",
      "execution_count": null,
      "metadata": {
        "id": "oJCnURpKiW31"
      },
      "outputs": [],
      "source": [
        "import pandas as pd\n",
        "import numpy as np"
      ]
    },
    {
      "cell_type": "code",
      "source": [
        "#1\n",
        "import matplotlib.pyplot as plt\n",
        "from sklearn.preprocessing import MinMaxScaler\n",
        "from sklearn.model_selection import train_test_split\n"
      ],
      "metadata": {
        "id": "eVlCaV0FzQZF"
      },
      "execution_count": null,
      "outputs": []
    },
    {
      "cell_type": "code",
      "source": [
        "def sigmoid(z):\n",
        "    return 1 / (1 + np.exp(-z))\n",
        "def train_logistic_regression(X, y, learning_rate=0.01, num_iterations=1000):\n",
        "    m, n = X.shape\n",
        "    weights = np.zeros(n)\n",
        "    for _ in range(num_iterations):\n",
        "        z = np.dot(X, weights)\n",
        "        predictions = sigmoid(z)\n",
        "        gradient = np.dot(X.T, (predictions - y)) / m\n",
        "        weights -= learning_rate * gradient\n",
        "    return weights\n",
        "def predict(X, weights):\n",
        "    z = np.dot(X, weights)\n",
        "    predictions = sigmoid(z)\n",
        "    return [1 if p >= 0.5 else 0 for p in predictions]\n"
      ],
      "metadata": {
        "id": "l33YTQ_sB17P"
      },
      "execution_count": null,
      "outputs": []
    },
    {
      "cell_type": "code",
      "source": [
        "data = pd.read_csv(\"/content/breast_cancer_survival.csv\")\n",
        "data['Patient_Status'] = data['Patient_Status'].map({'Alive': 1, 'Dead': 0})\n",
        "data['HER2 status'] = data['HER2 status'].map({'Positive': 1, 'Negative': 0})\n",
        "data = data.fillna(data.mean())\n",
        "columns_to_drop = ['Surgery_type', 'Date_of_Surgery', 'Date_of_Last_Visit', 'Histology', 'Tumour_Stage', 'Gender', 'ER status', 'PR status']\n",
        "data = data.drop(columns=columns_to_drop)\n"
      ],
      "metadata": {
        "id": "XoRRvAP9B_u7",
        "outputId": "5fb57a39-2a55-4955-933a-5b9d6b0702f8",
        "colab": {
          "base_uri": "https://localhost:8080/"
        }
      },
      "execution_count": null,
      "outputs": [
        {
          "output_type": "stream",
          "name": "stderr",
          "text": [
            "<ipython-input-5-95fe27673323>:4: FutureWarning: The default value of numeric_only in DataFrame.mean is deprecated. In a future version, it will default to False. In addition, specifying 'numeric_only=None' is deprecated. Select only valid columns or specify the value of numeric_only to silence this warning.\n",
            "  data = data.fillna(data.mean())\n"
          ]
        }
      ]
    },
    {
      "cell_type": "code",
      "source": [
        "if data['Patient_Status'].isnull().sum() > 0:\n",
        "    raise ValueError(\"NaNs found in the target variable.\")\n",
        "features = data.drop(\"Patient_Status\", axis=1)\n"
      ],
      "metadata": {
        "id": "4B9ohgwOCMQa"
      },
      "execution_count": null,
      "outputs": []
    },
    {
      "cell_type": "code",
      "source": [
        "print(features)"
      ],
      "metadata": {
        "id": "07pGiYzPCQPc",
        "outputId": "439c88f2-370d-477b-80a8-666c57c1d2d2",
        "colab": {
          "base_uri": "https://localhost:8080/"
        }
      },
      "execution_count": null,
      "outputs": [
        {
          "output_type": "stream",
          "name": "stdout",
          "text": [
            "     Age  Protein1  Protein2  Protein3  Protein4  HER2 status\n",
            "0     42  0.952560   2.15000  0.007972 -0.048340            0\n",
            "1     54  0.000000   1.38020 -0.498030 -0.507320            0\n",
            "2     63 -0.523030   1.76400 -0.370190  0.010815            0\n",
            "3     78 -0.876180   0.12943 -0.370380  0.132190            0\n",
            "4     42  0.226110   1.74910 -0.543970 -0.390210            1\n",
            "..   ...       ...       ...       ...       ...          ...\n",
            "329   59  0.024598   1.40050  0.024751  0.280320            1\n",
            "330   41  0.100120  -0.46547  0.472370 -0.523870            1\n",
            "331   54  0.753820   1.64250 -0.332850  0.857860            0\n",
            "332   74  0.972510   1.42680 -0.366570 -0.107820            0\n",
            "333   66  0.286380   1.39980  0.318830  0.836050            0\n",
            "\n",
            "[334 rows x 6 columns]\n"
          ]
        }
      ]
    },
    {
      "cell_type": "code",
      "source": [
        "target = data[\"Patient_Status\"].astype(int)\n",
        "print(target)"
      ],
      "metadata": {
        "id": "w_xcBqmYCTND",
        "outputId": "9b3852ca-430b-4981-d994-515530480236",
        "colab": {
          "base_uri": "https://localhost:8080/"
        }
      },
      "execution_count": null,
      "outputs": [
        {
          "output_type": "stream",
          "name": "stdout",
          "text": [
            "0      1\n",
            "1      0\n",
            "2      1\n",
            "3      1\n",
            "4      1\n",
            "      ..\n",
            "329    1\n",
            "330    1\n",
            "331    0\n",
            "332    1\n",
            "333    0\n",
            "Name: Patient_Status, Length: 334, dtype: int64\n"
          ]
        }
      ]
    },
    {
      "cell_type": "code",
      "source": [
        "X_train, X_test, y_train, y_test = train_test_split(features, target, test_size=0.2, random_state=42)\n",
        "weights = train_logistic_regression(X_train, y_train)\n",
        "print(weights)\n",
        "y_pred = predict(X_test, weights)\n",
        "print(y_pred)\n",
        "accuracy = sum(y_pred == y_test) / len(y_test)\n",
        "print(\"Accuracy:\", accuracy)"
      ],
      "metadata": {
        "id": "H6TXW5fxCXz2",
        "outputId": "8e2d88c1-a9f5-44e9-97a0-e3babb0b0e44",
        "colab": {
          "base_uri": "https://localhost:8080/"
        }
      },
      "execution_count": null,
      "outputs": [
        {
          "output_type": "stream",
          "name": "stdout",
          "text": [
            "[-0.0530465   0.01450357 -0.04023089 -0.05904883 -0.35660109  0.10085206]\n",
            "[0, 0, 0, 0, 0, 0, 0, 0, 0, 0, 0, 0, 0, 0, 0, 0, 0, 0, 0, 0, 0, 0, 0, 0, 0, 0, 0, 0, 0, 0, 0, 0, 0, 0, 0, 0, 0, 0, 0, 0, 0, 0, 0, 0, 0, 0, 0, 0, 0, 0, 0, 0, 0, 0, 0, 0, 0, 0, 0, 0, 0, 0, 0, 0, 0, 0, 0]\n",
            "Accuracy: 0.22388059701492538\n"
          ]
        }
      ]
    },
    {
      "cell_type": "code",
      "source": [
        "#2\n",
        "import numpy as np\n",
        "import pandas as pd\n",
        "import matplotlib.pyplot as plt\n",
        "from sklearn.preprocessing import MinMaxScaler\n",
        "from sklearn.model_selection import train_test_split\n",
        "from sklearn.linear_model import LogisticRegression\n",
        "from sklearn.metrics import accuracy_score\n",
        "\n"
      ],
      "metadata": {
        "id": "7VOhqbOV5sUA"
      },
      "execution_count": null,
      "outputs": []
    },
    {
      "cell_type": "code",
      "source": [
        "p=pd.read_csv('/content/breast_cancer_survival.csv')\n",
        "print(p)"
      ],
      "metadata": {
        "id": "bvnGp9QX7Cwm",
        "outputId": "41bab3e7-30ac-4525-d911-67fd3aec3033",
        "colab": {
          "base_uri": "https://localhost:8080/"
        }
      },
      "execution_count": null,
      "outputs": [
        {
          "output_type": "stream",
          "name": "stdout",
          "text": [
            "     Age  Gender  Protein1  Protein2  Protein3  Protein4 Tumour_Stage  \\\n",
            "0     42  FEMALE  0.952560   2.15000  0.007972 -0.048340           II   \n",
            "1     54  FEMALE  0.000000   1.38020 -0.498030 -0.507320           II   \n",
            "2     63  FEMALE -0.523030   1.76400 -0.370190  0.010815           II   \n",
            "3     78  FEMALE -0.876180   0.12943 -0.370380  0.132190            I   \n",
            "4     42  FEMALE  0.226110   1.74910 -0.543970 -0.390210           II   \n",
            "..   ...     ...       ...       ...       ...       ...          ...   \n",
            "329   59  FEMALE  0.024598   1.40050  0.024751  0.280320           II   \n",
            "330   41  FEMALE  0.100120  -0.46547  0.472370 -0.523870            I   \n",
            "331   54  FEMALE  0.753820   1.64250 -0.332850  0.857860           II   \n",
            "332   74  FEMALE  0.972510   1.42680 -0.366570 -0.107820           II   \n",
            "333   66  FEMALE  0.286380   1.39980  0.318830  0.836050           II   \n",
            "\n",
            "                          Histology ER status PR status HER2 status  \\\n",
            "0     Infiltrating Ductal Carcinoma  Positive  Positive    Negative   \n",
            "1     Infiltrating Ductal Carcinoma  Positive  Positive    Negative   \n",
            "2     Infiltrating Ductal Carcinoma  Positive  Positive    Negative   \n",
            "3     Infiltrating Ductal Carcinoma  Positive  Positive    Negative   \n",
            "4     Infiltrating Ductal Carcinoma  Positive  Positive    Positive   \n",
            "..                              ...       ...       ...         ...   \n",
            "329   Infiltrating Ductal Carcinoma  Positive  Positive    Positive   \n",
            "330   Infiltrating Ductal Carcinoma  Positive  Positive    Positive   \n",
            "331   Infiltrating Ductal Carcinoma  Positive  Positive    Negative   \n",
            "332  Infiltrating Lobular Carcinoma  Positive  Positive    Negative   \n",
            "333   Infiltrating Ductal Carcinoma  Positive  Positive    Negative   \n",
            "\n",
            "                    Surgery_type Date_of_Surgery Date_of_Last_Visit  \\\n",
            "0                          Other       20-May-18          26-Aug-18   \n",
            "1                          Other       26-Apr-18          25-Jan-19   \n",
            "2                     Lumpectomy       24-Aug-18          08-Apr-20   \n",
            "3                          Other       16-Nov-18          28-Jul-20   \n",
            "4                     Lumpectomy       12-Dec-18          05-Jan-19   \n",
            "..                           ...             ...                ...   \n",
            "329                   Lumpectomy       15-Jan-19          27-Mar-20   \n",
            "330  Modified Radical Mastectomy       25-Jul-18          23-Apr-19   \n",
            "331            Simple Mastectomy       26-Mar-19          11-Oct-19   \n",
            "332                   Lumpectomy       26-Nov-18          05-Dec-18   \n",
            "333  Modified Radical Mastectomy       04-Feb-19          10-Aug-19   \n",
            "\n",
            "    Patient_Status  \n",
            "0            Alive  \n",
            "1             Dead  \n",
            "2            Alive  \n",
            "3            Alive  \n",
            "4            Alive  \n",
            "..             ...  \n",
            "329          Alive  \n",
            "330          Alive  \n",
            "331           Dead  \n",
            "332          Alive  \n",
            "333           Dead  \n",
            "\n",
            "[334 rows x 15 columns]\n"
          ]
        }
      ]
    },
    {
      "cell_type": "code",
      "source": [
        "def logistic_regression(p):\n",
        "    p['Patient_Status'] = p['Patient_Status'].map({'Alive': 1, 'Dead': 0})\n",
        "    p['HER2 status'] = p['HER2 status'].map({'Positive': 1, 'Negative': 0})\n",
        "    p = p.fillna(p.mean())\n",
        "    columns_to_drop = ['Surgery_type', 'Date_of_Surgery', 'Date_of_Last_Visit', 'Histology', 'Tumour_Stage', 'Gender','ER status','PR status']\n",
        "    p = p.drop(columns=columns_to_drop)\n",
        "    if p['Patient_Status'].isnull().sum() > 0:\n",
        "        raise ValueError(\"NaNs found in the target variable.\")\n",
        "    features = p.drop(\"Patient_Status\", axis=1)\n",
        "    target = p[\"Patient_Status\"].astype(int)\n",
        "    x_train, x_test, y_train, y_test = train_test_split(features, target, test_size=0.2, random_state=42)\n",
        "    logistic_reg = LogisticRegression()\n",
        "    logistic_reg.fit(x_train, y_train)\n",
        "    y_pred = logistic_reg.predict(x_test)\n",
        "    accuracy = accuracy_score(y_test, y_pred)\n",
        "    print(\"Accuracy:\", accuracy)\n",
        "p = pd.read_csv(\"/content/breast_cancer_survival.csv\")\n",
        "logistic_regression(p)"
      ],
      "metadata": {
        "id": "CJ1Dt9YpCpOZ",
        "outputId": "08c083bd-df10-42fc-d6b9-f8897369928f",
        "colab": {
          "base_uri": "https://localhost:8080/"
        }
      },
      "execution_count": null,
      "outputs": [
        {
          "output_type": "stream",
          "name": "stdout",
          "text": [
            "Accuracy: 0.7761194029850746\n"
          ]
        },
        {
          "output_type": "stream",
          "name": "stderr",
          "text": [
            "<ipython-input-12-ae2ca55f67f5>:4: FutureWarning: The default value of numeric_only in DataFrame.mean is deprecated. In a future version, it will default to False. In addition, specifying 'numeric_only=None' is deprecated. Select only valid columns or specify the value of numeric_only to silence this warning.\n",
            "  p = p.fillna(p.mean())\n"
          ]
        }
      ]
    },
    {
      "cell_type": "code",
      "source": [],
      "metadata": {
        "id": "kocuEnOMCtxp"
      },
      "execution_count": null,
      "outputs": []
    }
  ]
}